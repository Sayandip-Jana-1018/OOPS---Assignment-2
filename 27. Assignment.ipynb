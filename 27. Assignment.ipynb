{
 "cells": [
  {
   "cell_type": "markdown",
   "id": "873c338e-a902-4536-bbe8-e7816cfdea26",
   "metadata": {},
   "source": [
    "Q1. What is Abstraction in OOps? Explain with an example."
   ]
  },
  {
   "cell_type": "markdown",
   "id": "0c305d55-0784-4620-8a68-ec50a93aa524",
   "metadata": {},
   "source": [
    "Abstraction in object-oriented programming (OOP) is the concept of hiding the complex implementation details of a system while exposing only the essential features or behaviors to the user. It allows programmers to focus on interacting with objects at a high level, without needing to understand the underlying complexities. Abstraction helps simplify code and enhances maintainability."
   ]
  },
  {
   "cell_type": "code",
   "execution_count": 2,
   "id": "fdcd2d6f-7297-4f3c-99df-a5385d81a032",
   "metadata": {},
   "outputs": [
    {
     "name": "stdout",
     "output_type": "stream",
     "text": [
      "Area: 78.5\n",
      "Area: 24\n"
     ]
    }
   ],
   "source": [
    "from abc import ABC, abstractmethod\n",
    "\n",
    "class Shape(ABC):\n",
    "    @abstractmethod\n",
    "    def area(self):\n",
    "        pass\n",
    "\n",
    "class Circle(Shape):\n",
    "    def __init__(self, radius):\n",
    "        self.radius = radius\n",
    "\n",
    "    def area(self):\n",
    "        return 3.14 * self.radius * self.radius\n",
    "\n",
    "class Rectangle(Shape):\n",
    "    def __init__(self, width, height):\n",
    "        self.width = width\n",
    "        self.height = height\n",
    "\n",
    "    def area(self):\n",
    "        return self.width * self.height\n",
    "\n",
    "def print_area(shape: Shape):\n",
    "    print(f\"Area: {shape.area()}\")\n",
    "\n",
    "circle = Circle(5)\n",
    "rectangle = Rectangle(4, 6)\n",
    "\n",
    "print_area(circle)      \n",
    "print_area(rectangle)   \n"
   ]
  },
  {
   "cell_type": "markdown",
   "id": "12ab51b5-6e02-4f7a-8767-ec0546bad5c9",
   "metadata": {},
   "source": [
    "Q2. Differentiate between Abstraction and Encapsulation. Explain with an example."
   ]
  },
  {
   "cell_type": "markdown",
   "id": "41955fbc-0f05-4083-b933-98d36d2de1c7",
   "metadata": {},
   "source": [
    "ABSTRACTION:\n",
    "\n",
    "Definition: Abstraction is the concept of hiding the complex implementation details and showing only the essential features of an object. It focuses on what an object does rather than how it does it.\n",
    "\n",
    "Purpose: The purpose of abstraction is to reduce complexity and allow the programmer to focus on interacting with objects at a high level without worrying about the underlying details.\n",
    "\n",
    "How It Works: Abstraction is achieved in Python using abstract classes and interfaces (through the abc module), or even by simply defining public methods that hide internal logic.\n",
    "\n",
    "ENCAPSULATION:\n",
    "\n",
    "Definition: Encapsulation is the concept of bundling the data (attributes) and methods (functions) that operate on the data into a single unit or class, while restricting access to some of the object's components. It involves controlling access to the internal state of an object and protecting it from outside interference.\n",
    "\n",
    "Purpose: The purpose of encapsulation is to protect the internal state of an object and to enforce a clear boundary between the object's interface (public methods) and its implementation (private methods/attributes).\n",
    "\n",
    "How It Works: Encapsulation is achieved in Python by using access modifiers like _ (protected) and __ (private) before attribute or method names to restrict access."
   ]
  },
  {
   "cell_type": "markdown",
   "id": "8435635a-d75f-4c4a-b69d-590dab99c078",
   "metadata": {},
   "source": [
    "Q3. What is abc module in python? Why is it used?"
   ]
  },
  {
   "cell_type": "markdown",
   "id": "6a8454e1-301f-4e22-9143-bebf04b12be7",
   "metadata": {},
   "source": [
    "The abc module in Python stands for \"Abstract Base Classes.\" It is a module that provides tools for defining abstract base classes in Python, which can be used to create abstract methods that must be implemented by any subclass. The primary purpose of the abc module is to ensure that certain methods are present in a subclass, enforcing a certain interface or contract."
   ]
  },
  {
   "cell_type": "markdown",
   "id": "3b6728f3-da86-4b0b-a8e5-9770a728898f",
   "metadata": {},
   "source": [
    "Q4. How can we achieve data abstraction?"
   ]
  },
  {
   "cell_type": "markdown",
   "id": "19acc4b9-949e-4caa-989b-a7f6030daa00",
   "metadata": {},
   "source": [
    "Data abstraction is the process of hiding the internal details and complexities of an object from the outside world and only exposing the essential features. In OOP, data abstraction allows the user to interact with an object through a simplified interface without needing to understand the inner workings of that object.\n",
    "\n",
    "In Python, we can use a single underscore _ to indicate that a variable or method is intended to be protected, meaning it should not be accessed directly outside the class, though it can still be accessed by subclasses.\n",
    "A double underscore __ is used to indicate that a variable or method is private, which restricts access from outside the class entirely. This helps in hiding the internal details and only exposing the necessary parts of the object."
   ]
  },
  {
   "cell_type": "markdown",
   "id": "b293b1d8-aed3-4f63-8556-244957ec3b74",
   "metadata": {},
   "source": [
    "Q5. Can we create an instance of an abstract class? Explain your answer."
   ]
  },
  {
   "cell_type": "markdown",
   "id": "1715b878-85ef-4d5c-8573-ba7465378a3d",
   "metadata": {},
   "source": [
    "No! An abstract class in Object-Oriented Programming (OOP) is a class that cannot be instantiated on its own and is meant to be a base class for other classes. Abstract classes are used to define a common interface and set of behaviors that derived classes must implement. The purpose of an abstract class is to provide a blueprint for other classes rather than to be a fully functional class on its own.\n",
    "\n",
    "In Python, abstract classes are defined using the abc (Abstract Base Classes) module. An abstract class can contain one or more abstract methods, which are methods that are declared but contain no implementation. Subclasses of the abstract class are expected to provide concrete implementations for these abstract methods."
   ]
  },
  {
   "cell_type": "code",
   "execution_count": 1,
   "id": "d8a63f34-479b-44cc-9731-2966385719ab",
   "metadata": {},
   "outputs": [
    {
     "name": "stdout",
     "output_type": "stream",
     "text": [
      "Woof!\n",
      "Meow!\n"
     ]
    },
    {
     "ename": "TypeError",
     "evalue": "Can't instantiate abstract class Animal with abstract method make_sound",
     "output_type": "error",
     "traceback": [
      "\u001b[0;31m---------------------------------------------------------------------------\u001b[0m",
      "\u001b[0;31mTypeError\u001b[0m                                 Traceback (most recent call last)",
      "Cell \u001b[0;32mIn[1], line 23\u001b[0m\n\u001b[1;32m     20\u001b[0m \u001b[38;5;28mprint\u001b[39m(cat\u001b[38;5;241m.\u001b[39mmake_sound())  \n\u001b[1;32m     22\u001b[0m \u001b[38;5;66;03m# Trying to create an instance of the abstract class\u001b[39;00m\n\u001b[0;32m---> 23\u001b[0m animal \u001b[38;5;241m=\u001b[39m \u001b[43mAnimal\u001b[49m\u001b[43m(\u001b[49m\u001b[43m)\u001b[49m  \u001b[38;5;66;03m# This will raise TypeError\u001b[39;00m\n",
      "\u001b[0;31mTypeError\u001b[0m: Can't instantiate abstract class Animal with abstract method make_sound"
     ]
    }
   ],
   "source": [
    "from abc import ABC, abstractmethod\n",
    "\n",
    "class Animal(ABC):  \n",
    "    @abstractmethod\n",
    "    def make_sound(self):\n",
    "        pass  \n",
    "\n",
    "class Dog(Animal):  \n",
    "    def make_sound(self):\n",
    "        return \"Woof!\"\n",
    "\n",
    "class Cat(Animal):\n",
    "    def make_sound(self):\n",
    "        return \"Meow!\"\n",
    "\n",
    "dog = Dog()\n",
    "cat = Cat()\n",
    "\n",
    "print(dog.make_sound())  \n",
    "print(cat.make_sound())  \n",
    "\n",
    "# Trying to create an instance of the abstract class\n",
    "animal = Animal()  # This will raise TypeError"
   ]
  }
 ],
 "metadata": {
  "kernelspec": {
   "display_name": "Python 3 (ipykernel)",
   "language": "python",
   "name": "python3"
  },
  "language_info": {
   "codemirror_mode": {
    "name": "ipython",
    "version": 3
   },
   "file_extension": ".py",
   "mimetype": "text/x-python",
   "name": "python",
   "nbconvert_exporter": "python",
   "pygments_lexer": "ipython3",
   "version": "3.10.8"
  }
 },
 "nbformat": 4,
 "nbformat_minor": 5
}
